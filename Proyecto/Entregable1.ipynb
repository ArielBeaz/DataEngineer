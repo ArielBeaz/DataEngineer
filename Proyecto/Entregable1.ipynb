{
 "cells": [
  {
   "cell_type": "code",
   "execution_count": 17,
   "metadata": {},
   "outputs": [],
   "source": [
    "import requests\n",
    "import os\n",
    "import json\n",
    "from dotenv import load_dotenv\n",
    "\n",
    "load_dotenv()\n",
    "\n",
    "YOUTUBE_API_KEY = os.getenv(\"YOUTUBE_API_KEY\")\n",
    "API_URL = \"https://www.googleapis.com/youtube/v3/videos\"\n",
    "\n",
    "params = {\n",
    "    'part': 'snippet',\n",
    "    'chart': 'mostPopular',\n",
    "    'regionCode': 'CL',  \n",
    "    'maxResults': 10,  \n",
    "    'key': YOUTUBE_API_KEY\n",
    "}\n",
    "\n",
    "\n",
    "response = requests.get(API_URL, params=params)\n",
    "data = response.json()\n"
   ]
  },
  {
   "cell_type": "code",
   "execution_count": null,
   "metadata": {},
   "outputs": [],
   "source": [
    "data"
   ]
  }
 ],
 "metadata": {
  "kernelspec": {
   "display_name": "Python 3",
   "language": "python",
   "name": "python3"
  },
  "language_info": {
   "codemirror_mode": {
    "name": "ipython",
    "version": 3
   },
   "file_extension": ".py",
   "mimetype": "text/x-python",
   "name": "python",
   "nbconvert_exporter": "python",
   "pygments_lexer": "ipython3",
   "version": "3.10.9"
  }
 },
 "nbformat": 4,
 "nbformat_minor": 2
}
