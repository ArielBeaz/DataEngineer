{
 "cells": [
  {
   "cell_type": "code",
   "execution_count": 17,
   "metadata": {},
   "outputs": [],
   "source": [
    "import requests\n",
    "import os\n",
    "import json\n",
    "from dotenv import load_dotenv\n",
    "\n",
    "load_dotenv()\n",
    "API_KEY_USER = os.getenv(\"API_KEY_USER\")\n",
    "\n",
    "city = \"Santiago\"\n",
    "\n",
    "url_api = f\"https://pro.openweathermap.org/data/2.5/forecast/hourly?q={city}&appid={API_KEY_USER}\"\n",
    "\n",
    "\n",
    "response = requests.get(url_api)\n",
    "data = response.json()\n",
    "\n",
    "data[0]\n",
    "\n"
   ]
  }
 ],
 "metadata": {
  "kernelspec": {
   "display_name": "Python 3",
   "language": "python",
   "name": "python3"
  },
  "language_info": {
   "codemirror_mode": {
    "name": "ipython",
    "version": 3
   },
   "file_extension": ".py",
   "mimetype": "text/x-python",
   "name": "python",
   "nbconvert_exporter": "python",
   "pygments_lexer": "ipython3",
   "version": "3.10.9"
  }
 },
 "nbformat": 4,
 "nbformat_minor": 2
}
