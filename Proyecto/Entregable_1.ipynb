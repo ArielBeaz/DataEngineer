{
 "cells": [
  {
   "cell_type": "code",
   "execution_count": null,
   "metadata": {},
   "outputs": [],
   "source": [
    "import requests\n",
    "import os\n",
    "import json\n",
    "from dotenv import load_dotenv\n",
    "\n",
    "load_dotenv()\n",
    "\n",
    "YOUTUBE_API_KEY = os.getenv('YOUTUBE_API_KEY')\n",
    "API_URL = 'https://www.googleapis.com/youtube/v3/videos'\n",
    "\n",
    "params = {\n",
    "        'part': 'snippet,statistics',\n",
    "       'chart': 'mostPopular',\n",
    "       'regionCode': 'CL',\n",
    "       'maxResults': 10, \n",
    "       'key': YOUTUBE_API_KEY}\n",
    "\n",
    "response = requests.get(API_URL, params=params)\n",
    "\n",
    "\n",
    "data = response.json()"
   ]
  },
  {
   "cell_type": "code",
   "execution_count": null,
   "metadata": {},
   "outputs": [],
   "source": [
    "data"
   ]
  },
  {
   "cell_type": "code",
   "execution_count": null,
   "metadata": {},
   "outputs": [],
   "source": [
    "import pandas as pd\n",
    "from pandas import json_normalize\n",
    "\n",
    "df = json_normalize(data['items'])\n",
    "df"
   ]
  },
  {
   "cell_type": "code",
   "execution_count": null,
   "metadata": {},
   "outputs": [],
   "source": [
    "new_index = ['Titulo', 'Descripción','Reproducciones','Cantidad de Likes','Lenguaje','Tags']\n",
    "dfredshift = df[['snippet.title','snippet.description','statistics.viewCount','statistics.likeCount','snippet.defaultLanguage','snippet.tags']]\n",
    "dfredshift.columns=new_index\n",
    "dfredshift"
   ]
  },
  {
   "cell_type": "code",
   "execution_count": null,
   "metadata": {},
   "outputs": [],
   "source": [
    "from datetime import datetime\n",
    "time_request = datetime.now().strftime('%Y-%m-%d %H:%M:%S')\n",
    "dfredshift['Time request'] = time_request\n",
    "dfredshift"
   ]
  }
 ],
 "metadata": {
  "language_info": {
   "name": "python"
  }
 },
 "nbformat": 4,
 "nbformat_minor": 2
}
